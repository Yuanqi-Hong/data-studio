{
 "cells": [
  {
   "cell_type": "markdown",
   "metadata": {},
   "source": [
    "# Graphing MusicNet Data"
   ]
  },
  {
   "cell_type": "markdown",
   "metadata": {},
   "source": [
    "> [MusicNet](https://homes.cs.washington.edu/~thickstn/musicnet.html) is a collection of 330 freely-licensed classical music recordings, together with over 1 million annotated labels indicating the precise time of each note in every recording, the instrument that plays each note, and the note's position in the metrical structure of the composition.\n",
    "\n",
    "MusicNet provides two datasets: the first is its metadata, which contains summary info of the tracks, and the second is the raw data (provided in different formats), which contains everything including the labels, and which takes much longer to download. I start by plotting MusicNet's metadata."
   ]
  },
  {
   "cell_type": "code",
   "execution_count": 1,
   "metadata": {},
   "outputs": [],
   "source": [
    "import pandas as pd\n",
    "import matplotlib.pyplot as plt\n",
    "\n",
    "%matplotlib inline"
   ]
  },
  {
   "cell_type": "code",
   "execution_count": 2,
   "metadata": {},
   "outputs": [
    {
     "data": {
      "text/html": [
       "<div>\n",
       "<style scoped>\n",
       "    .dataframe tbody tr th:only-of-type {\n",
       "        vertical-align: middle;\n",
       "    }\n",
       "\n",
       "    .dataframe tbody tr th {\n",
       "        vertical-align: top;\n",
       "    }\n",
       "\n",
       "    .dataframe thead th {\n",
       "        text-align: right;\n",
       "    }\n",
       "</style>\n",
       "<table border=\"1\" class=\"dataframe\">\n",
       "  <thead>\n",
       "    <tr style=\"text-align: right;\">\n",
       "      <th></th>\n",
       "      <th>id</th>\n",
       "      <th>composer</th>\n",
       "      <th>composition</th>\n",
       "      <th>movement</th>\n",
       "      <th>ensemble</th>\n",
       "      <th>source</th>\n",
       "      <th>transcriber</th>\n",
       "      <th>catalog_name</th>\n",
       "      <th>seconds</th>\n",
       "    </tr>\n",
       "  </thead>\n",
       "  <tbody>\n",
       "    <tr>\n",
       "      <th>0</th>\n",
       "      <td>1727</td>\n",
       "      <td>Schubert</td>\n",
       "      <td>Piano Quintet in A major</td>\n",
       "      <td>2. Andante</td>\n",
       "      <td>Piano Quintet</td>\n",
       "      <td>European Archive</td>\n",
       "      <td>http://tirolmusic.blogspot.com/</td>\n",
       "      <td>OP114</td>\n",
       "      <td>447</td>\n",
       "    </tr>\n",
       "    <tr>\n",
       "      <th>1</th>\n",
       "      <td>1728</td>\n",
       "      <td>Schubert</td>\n",
       "      <td>Piano Quintet in A major</td>\n",
       "      <td>3. Scherzo: Presto</td>\n",
       "      <td>Piano Quintet</td>\n",
       "      <td>European Archive</td>\n",
       "      <td>http://tirolmusic.blogspot.com/</td>\n",
       "      <td>OP114</td>\n",
       "      <td>251</td>\n",
       "    </tr>\n",
       "    <tr>\n",
       "      <th>2</th>\n",
       "      <td>1729</td>\n",
       "      <td>Schubert</td>\n",
       "      <td>Piano Quintet in A major</td>\n",
       "      <td>4. Andantino - Allegretto</td>\n",
       "      <td>Piano Quintet</td>\n",
       "      <td>European Archive</td>\n",
       "      <td>http://tirolmusic.blogspot.com/</td>\n",
       "      <td>OP114</td>\n",
       "      <td>444</td>\n",
       "    </tr>\n",
       "    <tr>\n",
       "      <th>3</th>\n",
       "      <td>1730</td>\n",
       "      <td>Schubert</td>\n",
       "      <td>Piano Quintet in A major</td>\n",
       "      <td>5. Allegro giusto</td>\n",
       "      <td>Piano Quintet</td>\n",
       "      <td>European Archive</td>\n",
       "      <td>http://tirolmusic.blogspot.com/</td>\n",
       "      <td>OP114</td>\n",
       "      <td>368</td>\n",
       "    </tr>\n",
       "    <tr>\n",
       "      <th>4</th>\n",
       "      <td>1733</td>\n",
       "      <td>Schubert</td>\n",
       "      <td>Piano Sonata in A major</td>\n",
       "      <td>2. Andantino</td>\n",
       "      <td>Solo Piano</td>\n",
       "      <td>Museopen</td>\n",
       "      <td>Segundo G. Yogore</td>\n",
       "      <td>D959</td>\n",
       "      <td>546</td>\n",
       "    </tr>\n",
       "  </tbody>\n",
       "</table>\n",
       "</div>"
      ],
      "text/plain": [
       "     id  composer               composition                   movement  \\\n",
       "0  1727  Schubert  Piano Quintet in A major                 2. Andante   \n",
       "1  1728  Schubert  Piano Quintet in A major         3. Scherzo: Presto   \n",
       "2  1729  Schubert  Piano Quintet in A major  4. Andantino - Allegretto   \n",
       "3  1730  Schubert  Piano Quintet in A major          5. Allegro giusto   \n",
       "4  1733  Schubert   Piano Sonata in A major               2. Andantino   \n",
       "\n",
       "        ensemble            source                      transcriber  \\\n",
       "0  Piano Quintet  European Archive  http://tirolmusic.blogspot.com/   \n",
       "1  Piano Quintet  European Archive  http://tirolmusic.blogspot.com/   \n",
       "2  Piano Quintet  European Archive  http://tirolmusic.blogspot.com/   \n",
       "3  Piano Quintet  European Archive  http://tirolmusic.blogspot.com/   \n",
       "4     Solo Piano          Museopen                Segundo G. Yogore   \n",
       "\n",
       "  catalog_name  seconds  \n",
       "0        OP114      447  \n",
       "1        OP114      251  \n",
       "2        OP114      444  \n",
       "3        OP114      368  \n",
       "4         D959      546  "
      ]
     },
     "execution_count": 2,
     "metadata": {},
     "output_type": "execute_result"
    }
   ],
   "source": [
    "# Open up the metadata\n",
    "df = pd.read_csv('musicnet_metadata.csv')\n",
    "df.head()"
   ]
  },
  {
   "cell_type": "code",
   "execution_count": 3,
   "metadata": {},
   "outputs": [
    {
     "data": {
      "image/png": "[encoded data removed]",
      "text/plain": [
       "<Figure size 1440x432 with 1 Axes>"
      ]
     },
     "metadata": {},
     "output_type": "display_data"
    }
   ],
   "source": [
    "# Take a look at the composers (how many movements each composer holds in this database)\n",
    "ax = df.composer.value_counts().sort_values().plot(kind='barh', color='#666666', legend=False, figsize=(20,6))\n",
    "ax.set_title('Beethoven Absolutely RULED MusicNet’s Database',pad=17)\n",
    "ax.title.set_fontsize(20)\n",
    "ax.spines['top'].set_visible(False)\n",
    "ax.spines['left'].set_visible(False)\n",
    "ax.spines['bottom'].set_visible(False)\n",
    "ax.spines['right'].set_visible(False)\n",
    "ax.set_xticks([0,20,40,60,80,100,120,140,160])\n",
    "ax.set_xticklabels([0,20,40,60,80,100,120,140,'160 movements'])\n",
    "ax.tick_params(which='major',left=False, bottom=False, grid_alpha=0.3)\n",
    "ax.grid(True, axis='x')\n",
    "ax.set_axisbelow(True)"
   ]
  },
  {
   "cell_type": "markdown",
   "metadata": {},
   "source": [
    "Seems like this dataset is pretty biased toward Beethoven.\n",
    "\n",
    "But wait, that could be because we counted the movements rather than compositions per composer. Maybe things will look less crazy if we counted compositions instead?"
   ]
  },
  {
   "cell_type": "code",
   "execution_count": 4,
   "metadata": {},
   "outputs": [
    {
     "data": {
      "image/png": "[encoded data removed]",
      "text/plain": [
       "<Figure size 1440x432 with 1 Axes>"
      ]
     },
     "metadata": {},
     "output_type": "display_data"
    }
   ],
   "source": [
    "# Look at how many compositions each composer has\n",
    "df1 = df.groupby('composition').composer.value_counts()\n",
    "from collections import Counter\n",
    "counter = Counter([composer[1] for composer in df1.keys()])\n",
    "df1 = pd.DataFrame(counter, index=counter.keys()).transpose()['Beethoven']\n",
    "\n",
    "ax = df1.sort_values().plot(kind='barh', color='#666666', legend=False, figsize=(20,6))\n",
    "ax.set_title('Beethoven STILL RULED MusicNet’s Database, No Surprise',pad=17)\n",
    "ax.title.set_fontsize(20)\n",
    "ax.spines['top'].set_visible(False)\n",
    "ax.spines['left'].set_visible(False)\n",
    "ax.spines['bottom'].set_visible(False)\n",
    "ax.spines['right'].set_visible(False)\n",
    "ax.set_xticks([0,10,20,30,40,50,60])\n",
    "ax.set_xticklabels([0,10,20,30,40,50,'60 compositions'])\n",
    "ax.set_xlim(0,61)\n",
    "ax.tick_params(which='major',left=False, bottom=False, grid_alpha=0.3)\n",
    "ax.grid(True, axis='x')\n",
    "ax.set_axisbelow(True)"
   ]
  },
  {
   "cell_type": "markdown",
   "metadata": {},
   "source": [
    "Apparently not."
   ]
  },
  {
   "cell_type": "markdown",
   "metadata": {},
   "source": [
    "What is the most popular tonality according to MusicNet? What does the breakdown look like for each composer?"
   ]
  },
  {
   "cell_type": "code",
   "execution_count": 5,
   "metadata": {
    "scrolled": false
   },
   "outputs": [
    {
     "data": {
      "image/png": "[encoded data removed]",
      "text/plain": [
       "<Figure size 1440x792 with 1 Axes>"
      ]
     },
     "metadata": {},
     "output_type": "display_data"
    }
   ],
   "source": [
    "# Use regex to extract all tonalities\n",
    "df['tonality'] = df.composition.str.extract('in ([A-Z][^\\w].*)$', expand=True)\n",
    "\n",
    "ax = df['tonality'].value_counts().sort_values().plot(kind='barh', color='#666666', legend=False, figsize=(20,11))\n",
    "ax.set_title('E-flat Major Is the People\\'s Choice', pad=17)\n",
    "ax.title.set_fontsize(20)\n",
    "ax.spines['top'].set_visible(False)\n",
    "ax.spines['left'].set_visible(False)\n",
    "ax.spines['bottom'].set_visible(False)\n",
    "ax.spines['right'].set_visible(False)\n",
    "ax.set_xticks([0,5,10,15,20,25,30,35])\n",
    "ax.set_xticklabels([0,5,10,15,20,25,30,'35 movements'])\n",
    "ax.set_xlim(0,36)\n",
    "ax.tick_params(which='major',left=False, bottom=False, grid_alpha=0.3)\n",
    "ax.grid(True, axis='x')\n",
    "ax.set_axisbelow(True)"
   ]
  },
  {
   "cell_type": "code",
   "execution_count": 6,
   "metadata": {},
   "outputs": [],
   "source": [
    "# df['tonality'] = df.tonality.replace('.*Major','major')\n",
    "# df['tonality'] = df.tonality.replace('.*Minor','minor')\n",
    "# df['tonality'] = df.composition.str.extract('in [A-Z][^\\w]*(.{5})$', expand=True)\n",
    "# df['tonality'].value_counts()"
   ]
  },
  {
   "cell_type": "code",
   "execution_count": 7,
   "metadata": {
    "scrolled": true
   },
   "outputs": [
    {
     "data": {
      "text/plain": [
       "[                 0\n",
       " 106        E major\n",
       " 107        E major\n",
       " 108  F-sharp major\n",
       " 109  C-sharp major\n",
       " 110  C-sharp major\n",
       " 111   B-flat minor\n",
       " 112        G minor\n",
       " 113        G minor\n",
       " 114        A minor\n",
       " 115        A minor\n",
       " 116        A minor\n",
       " 117        E minor\n",
       " 118        E minor\n",
       " 119  C-sharp minor\n",
       " 120  C-sharp minor\n",
       " 121        F minor\n",
       " 122        F minor\n",
       " 123        C minor\n",
       " 124        C minor\n",
       " 125        C major\n",
       " 126            NaN\n",
       " 127            NaN\n",
       " 128            NaN\n",
       " 129            NaN\n",
       " 130            NaN\n",
       " 131            NaN\n",
       " 132   E-flat major\n",
       " 133   E-flat major\n",
       " 134        D minor\n",
       " 135        D minor\n",
       " ..             ...\n",
       " 143   A-flat major\n",
       " 144   A-flat major\n",
       " 145        G minor\n",
       " 146        G minor\n",
       " 147        G minor\n",
       " 148        G minor\n",
       " 149        E major\n",
       " 150        E major\n",
       " 151        B minor\n",
       " 152        B minor\n",
       " 153        B minor\n",
       " 154        B minor\n",
       " 155        B minor\n",
       " 156        B minor\n",
       " 157        A major\n",
       " 158            NaN\n",
       " 159            NaN\n",
       " 160            NaN\n",
       " 161            NaN\n",
       " 162            NaN\n",
       " 163            NaN\n",
       " 164   E-flat minor\n",
       " 165        D major\n",
       " 166        D major\n",
       " 167  F-sharp minor\n",
       " 168  F-sharp minor\n",
       " 169  G-sharp minor\n",
       " 170  G-sharp minor\n",
       " 171        G major\n",
       " 327        B minor\n",
       " \n",
       " [67 rows x 1 columns],                  0\n",
       " 172        A minor\n",
       " 173        A minor\n",
       " 174        A minor\n",
       " 175   E-flat major\n",
       " 176   E-flat major\n",
       " 177   E-flat major\n",
       " 178        F minor\n",
       " 179        F minor\n",
       " 180        D major\n",
       " 181        G major\n",
       " 182        G major\n",
       " 183        G major\n",
       " 184        G major\n",
       " 185        G major\n",
       " 186  C-sharp minor\n",
       " 187  C-sharp minor\n",
       " 188  C-sharp minor\n",
       " 189  C-sharp minor\n",
       " 190  C-sharp minor\n",
       " 191        D major\n",
       " 192        D major\n",
       " 193        D major\n",
       " 194        D major\n",
       " 195   E-flat major\n",
       " 196   E-flat major\n",
       " 197   E-flat major\n",
       " 198        E major\n",
       " 199        E major\n",
       " 200        G minor\n",
       " 201        G minor\n",
       " ..             ...\n",
       " 299        C minor\n",
       " 300        C minor\n",
       " 301        F major\n",
       " 302        F major\n",
       " 303        C major\n",
       " 304   A-flat major\n",
       " 305   A-flat major\n",
       " 306   A-flat major\n",
       " 307   E-flat major\n",
       " 308   E-flat major\n",
       " 309   E-flat major\n",
       " 310   E-flat major\n",
       " 311   E-flat major\n",
       " 312        G major\n",
       " 313        G major\n",
       " 314        D major\n",
       " 315        D major\n",
       " 316        F major\n",
       " 317        F major\n",
       " 318        F major\n",
       " 319        F major\n",
       " 320        F major\n",
       " 321        G major\n",
       " 322        G major\n",
       " 323        G major\n",
       " 324        G major\n",
       " 325        G major\n",
       " 326        G major\n",
       " 328        E major\n",
       " 329        G major\n",
       " \n",
       " [157 rows x 1 columns],                0\n",
       " 74       E minor\n",
       " 75       E minor\n",
       " 76       E minor\n",
       " 77       F minor\n",
       " 78       F minor\n",
       " 79       F minor\n",
       " 80       F minor\n",
       " 81       D Major\n",
       " 82       D Major\n",
       " 83       C minor\n",
       " 84       C minor\n",
       " 85       G major\n",
       " 86       G minor\n",
       " 87       G minor\n",
       " 88       G minor\n",
       " 89       G minor\n",
       " 90  B-flat major\n",
       " 91  B-flat major\n",
       " 92  B-flat major\n",
       " 93  B-flat major\n",
       " 94  E-flat major\n",
       " 95  E-flat major\n",
       " 96  E-flat major\n",
       " 97  E-flat major,                0\n",
       " 62  B-flat Major\n",
       " 63  B-flat Major\n",
       " 64  B-flat Major\n",
       " 65       D Minor\n",
       " 66       D Minor\n",
       " 67       D Minor\n",
       " 68       F Major\n",
       " 69       F Major\n",
       " 70       F Major,                0\n",
       " 54  E-flat major\n",
       " 55  E-flat major\n",
       " 56  E-flat major\n",
       " 57  E-flat major\n",
       " 58  E-flat major\n",
       " 59       F major\n",
       " 60       F major\n",
       " 61       F major,            0\n",
       " 98   G minor\n",
       " 99   G minor\n",
       " 100  G minor\n",
       " 101  G minor,           0\n",
       " 71  D major\n",
       " 72  D major\n",
       " 73  D major,                0\n",
       " 30       C major\n",
       " 31       C major\n",
       " 32       C major\n",
       " 33       C major\n",
       " 34       C major\n",
       " 35       C major\n",
       " 36       G major\n",
       " 37       G major\n",
       " 38       A major\n",
       " 39       A major\n",
       " 40       A major\n",
       " 41  E-flat major\n",
       " 42  E-flat major\n",
       " 43  E-flat major\n",
       " 44       D minor\n",
       " 45       D minor\n",
       " 46       E major\n",
       " 47       E major\n",
       " 48       F major\n",
       " 49       A major\n",
       " 50  B-flat major\n",
       " 51  B-flat major\n",
       " 52       G major\n",
       " 53       G major,        0\n",
       " 102  NaN\n",
       " 103  NaN\n",
       " 104  NaN\n",
       " 105  NaN,                0\n",
       " 0        A major\n",
       " 1        A major\n",
       " 2        A major\n",
       " 3        A major\n",
       " 4        A major\n",
       " 5        A major\n",
       " 6        A major\n",
       " 7   B-flat major\n",
       " 8        C major\n",
       " 9        A minor\n",
       " 10       A minor\n",
       " 11       A minor\n",
       " 12       A minor\n",
       " 13       A minor\n",
       " 14       A minor\n",
       " 15       C minor\n",
       " 16       C minor\n",
       " 17       C minor\n",
       " 18       C minor\n",
       " 19           NaN\n",
       " 20           NaN\n",
       " 21           NaN\n",
       " 22           NaN\n",
       " 23       A major\n",
       " 24  D-flat major\n",
       " 25  D-flat major\n",
       " 26  D-flat major\n",
       " 27       D major\n",
       " 28       D major\n",
       " 29       D major]"
      ]
     },
     "execution_count": 7,
     "metadata": {},
     "output_type": "execute_result"
    }
   ],
   "source": [
    "[(row[1].str.extract('in ([A-Z][^\\w].*)$', expand=True)) for row in df.groupby('composer').composition]"
   ]
  },
  {
   "cell_type": "code",
   "execution_count": 8,
   "metadata": {
    "scrolled": true
   },
   "outputs": [
    {
     "data": {
      "text/plain": [
       "<matplotlib.axes._subplots.AxesSubplot at 0x11018a080>"
      ]
     },
     "execution_count": 8,
     "metadata": {},
     "output_type": "execute_result"
    },
    {
     "data": {
      "image/png": "[encoded data removed]",
      "text/plain": [
       "<Figure size 432x288 with 1 Axes>"
      ]
     },
     "metadata": {},
     "output_type": "display_data"
    }
   ],
   "source": [
    "df.seconds.hist()"
   ]
  },
  {
   "cell_type": "code",
   "execution_count": 9,
   "metadata": {
    "scrolled": false
   },
   "outputs": [
    {
     "data": {
      "text/plain": [
       "Solo Piano                     156\n",
       "String Quartet                  57\n",
       "Accompanied Violin              22\n",
       "Solo Cello                      12\n",
       "Wind Quintet                     9\n",
       "Solo Violin                      9\n",
       "Piano Quartet                    8\n",
       "Accompanied Cello                7\n",
       "Piano Trio                       7\n",
       "Pairs Clarinet-Horn-Bassoon      6\n",
       "String Sextet                    5\n",
       "Piano Quintet                    4\n",
       "Violin and Harpsichord           4\n",
       "Accompanied Clarinet             4\n",
       "Wind Octet                       4\n",
       "Horn Piano Trio                  4\n",
       "Clarinet Quintet                 3\n",
       "Clarinet-Cello-Piano Trio        3\n",
       "Solo Flute                       3\n",
       "Wind and Strings Octet           2\n",
       "Viola Quintet                    1\n",
       "Name: ensemble, dtype: int64"
      ]
     },
     "execution_count": 9,
     "metadata": {},
     "output_type": "execute_result"
    }
   ],
   "source": [
    "df.ensemble.value_counts()"
   ]
  },
  {
   "cell_type": "markdown",
   "metadata": {},
   "source": [
    "Nice-to-have:\n",
    "- An interactive line graph of compositions' melody trends (can be filtered by composer)"
   ]
  }
 ],
 "metadata": {
  "kernelspec": {
   "display_name": "Python 3",
   "language": "python",
   "name": "python3"
  },
  "language_info": {
   "codemirror_mode": {
    "name": "ipython",
    "version": 3
   },
   "file_extension": ".py",
   "mimetype": "text/x-python",
   "name": "python",
   "nbconvert_exporter": "python",
   "pygments_lexer": "ipython3",
   "version": "3.6.5"
  }
 },
 "nbformat": 4,
 "nbformat_minor": 2
}
