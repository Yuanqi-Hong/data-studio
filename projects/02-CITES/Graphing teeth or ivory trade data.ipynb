{
 "cells": [
  {
   "cell_type": "code",
   "execution_count": 2,
   "metadata": {},
   "outputs": [],
   "source": [
    "import pandas as pd\n",
    "import matplotlib.pyplot as plt\n",
    "\n",
    "%matplotlib inline"
   ]
  },
  {
   "cell_type": "markdown",
   "metadata": {},
   "source": [
    "Note on taxonomic ranks: kingdom > phylum or division > class > order > family > genus > species"
   ]
  },
  {
   "cell_type": "code",
   "execution_count": 3,
   "metadata": {
    "scrolled": true
   },
   "outputs": [
    {
     "data": {
      "text/html": [
       "<div>\n",
       "<style scoped>\n",
       "    .dataframe tbody tr th:only-of-type {\n",
       "        vertical-align: middle;\n",
       "    }\n",
       "\n",
       "    .dataframe tbody tr th {\n",
       "        vertical-align: top;\n",
       "    }\n",
       "\n",
       "    .dataframe thead th {\n",
       "        text-align: right;\n",
       "    }\n",
       "</style>\n",
       "<table border=\"1\" class=\"dataframe\">\n",
       "  <thead>\n",
       "    <tr style=\"text-align: right;\">\n",
       "      <th></th>\n",
       "      <th>Year</th>\n",
       "      <th>App.</th>\n",
       "      <th>Taxon</th>\n",
       "      <th>Class</th>\n",
       "      <th>Order</th>\n",
       "      <th>Family</th>\n",
       "      <th>Genus</th>\n",
       "      <th>Importer</th>\n",
       "      <th>Exporter</th>\n",
       "      <th>Origin</th>\n",
       "      <th>Importer reported quantity</th>\n",
       "      <th>Exporter reported quantity</th>\n",
       "      <th>Term</th>\n",
       "      <th>Unit</th>\n",
       "      <th>Purpose</th>\n",
       "      <th>Source</th>\n",
       "    </tr>\n",
       "  </thead>\n",
       "  <tbody>\n",
       "    <tr>\n",
       "      <th>0</th>\n",
       "      <td>1977</td>\n",
       "      <td>II</td>\n",
       "      <td>Crocodylus spp.</td>\n",
       "      <td>Reptilia</td>\n",
       "      <td>Crocodylia</td>\n",
       "      <td>Crocodylidae</td>\n",
       "      <td>Crocodylus</td>\n",
       "      <td>US</td>\n",
       "      <td>PG</td>\n",
       "      <td>NaN</td>\n",
       "      <td>NaN</td>\n",
       "      <td>1.0</td>\n",
       "      <td>teeth</td>\n",
       "      <td>NaN</td>\n",
       "      <td>NaN</td>\n",
       "      <td>NaN</td>\n",
       "    </tr>\n",
       "    <tr>\n",
       "      <th>1</th>\n",
       "      <td>1978</td>\n",
       "      <td>II</td>\n",
       "      <td>Crocodylus spp.</td>\n",
       "      <td>Reptilia</td>\n",
       "      <td>Crocodylia</td>\n",
       "      <td>Crocodylidae</td>\n",
       "      <td>Crocodylus</td>\n",
       "      <td>AU</td>\n",
       "      <td>PG</td>\n",
       "      <td>NaN</td>\n",
       "      <td>NaN</td>\n",
       "      <td>15.0</td>\n",
       "      <td>teeth</td>\n",
       "      <td>NaN</td>\n",
       "      <td>P</td>\n",
       "      <td>NaN</td>\n",
       "    </tr>\n",
       "    <tr>\n",
       "      <th>2</th>\n",
       "      <td>1978</td>\n",
       "      <td>II</td>\n",
       "      <td>Dugong dugon</td>\n",
       "      <td>Mammalia</td>\n",
       "      <td>Sirenia</td>\n",
       "      <td>Dugongidae</td>\n",
       "      <td>Dugong</td>\n",
       "      <td>US</td>\n",
       "      <td>AU</td>\n",
       "      <td>NaN</td>\n",
       "      <td>NaN</td>\n",
       "      <td>100.0</td>\n",
       "      <td>teeth</td>\n",
       "      <td>NaN</td>\n",
       "      <td>NaN</td>\n",
       "      <td>NaN</td>\n",
       "    </tr>\n",
       "    <tr>\n",
       "      <th>3</th>\n",
       "      <td>1978</td>\n",
       "      <td>II</td>\n",
       "      <td>Loxodonta africana</td>\n",
       "      <td>Mammalia</td>\n",
       "      <td>Proboscidea</td>\n",
       "      <td>Elephantidae</td>\n",
       "      <td>Loxodonta</td>\n",
       "      <td>CH</td>\n",
       "      <td>DE</td>\n",
       "      <td>BW</td>\n",
       "      <td>NaN</td>\n",
       "      <td>1.0</td>\n",
       "      <td>teeth</td>\n",
       "      <td>NaN</td>\n",
       "      <td>NaN</td>\n",
       "      <td>NaN</td>\n",
       "    </tr>\n",
       "    <tr>\n",
       "      <th>4</th>\n",
       "      <td>1978</td>\n",
       "      <td>II</td>\n",
       "      <td>Loxodonta africana</td>\n",
       "      <td>Mammalia</td>\n",
       "      <td>Proboscidea</td>\n",
       "      <td>Elephantidae</td>\n",
       "      <td>Loxodonta</td>\n",
       "      <td>DE</td>\n",
       "      <td>CH</td>\n",
       "      <td>XX</td>\n",
       "      <td>NaN</td>\n",
       "      <td>17.0</td>\n",
       "      <td>teeth</td>\n",
       "      <td>NaN</td>\n",
       "      <td>NaN</td>\n",
       "      <td>NaN</td>\n",
       "    </tr>\n",
       "  </tbody>\n",
       "</table>\n",
       "</div>"
      ],
      "text/plain": [
       "   Year App.               Taxon     Class        Order        Family  \\\n",
       "0  1977   II     Crocodylus spp.  Reptilia   Crocodylia  Crocodylidae   \n",
       "1  1978   II     Crocodylus spp.  Reptilia   Crocodylia  Crocodylidae   \n",
       "2  1978   II        Dugong dugon  Mammalia      Sirenia    Dugongidae   \n",
       "3  1978   II  Loxodonta africana  Mammalia  Proboscidea  Elephantidae   \n",
       "4  1978   II  Loxodonta africana  Mammalia  Proboscidea  Elephantidae   \n",
       "\n",
       "        Genus Importer Exporter Origin  Importer reported quantity  \\\n",
       "0  Crocodylus       US       PG    NaN                         NaN   \n",
       "1  Crocodylus       AU       PG    NaN                         NaN   \n",
       "2      Dugong       US       AU    NaN                         NaN   \n",
       "3   Loxodonta       CH       DE     BW                         NaN   \n",
       "4   Loxodonta       DE       CH     XX                         NaN   \n",
       "\n",
       "   Exporter reported quantity   Term Unit Purpose Source  \n",
       "0                         1.0  teeth  NaN     NaN    NaN  \n",
       "1                        15.0  teeth  NaN       P    NaN  \n",
       "2                       100.0  teeth  NaN     NaN    NaN  \n",
       "3                         1.0  teeth  NaN     NaN    NaN  \n",
       "4                        17.0  teeth  NaN     NaN    NaN  "
      ]
     },
     "execution_count": 3,
     "metadata": {},
     "output_type": "execute_result"
    }
   ],
   "source": [
    "teeth = pd.read_csv('CITES_data_20180717_teeth.csv')\n",
    "teeth.head()"
   ]
  },
  {
   "cell_type": "code",
   "execution_count": 4,
   "metadata": {},
   "outputs": [
    {
     "data": {
      "text/html": [
       "<div>\n",
       "<style scoped>\n",
       "    .dataframe tbody tr th:only-of-type {\n",
       "        vertical-align: middle;\n",
       "    }\n",
       "\n",
       "    .dataframe tbody tr th {\n",
       "        vertical-align: top;\n",
       "    }\n",
       "\n",
       "    .dataframe thead th {\n",
       "        text-align: right;\n",
       "    }\n",
       "</style>\n",
       "<table border=\"1\" class=\"dataframe\">\n",
       "  <thead>\n",
       "    <tr style=\"text-align: right;\">\n",
       "      <th></th>\n",
       "      <th>Year</th>\n",
       "      <th>App.</th>\n",
       "      <th>Taxon</th>\n",
       "      <th>Class</th>\n",
       "      <th>Order</th>\n",
       "      <th>Family</th>\n",
       "      <th>Genus</th>\n",
       "      <th>Importer</th>\n",
       "      <th>Exporter</th>\n",
       "      <th>Origin</th>\n",
       "      <th>Importer reported quantity</th>\n",
       "      <th>Exporter reported quantity</th>\n",
       "      <th>Term</th>\n",
       "      <th>Unit</th>\n",
       "      <th>Purpose</th>\n",
       "      <th>Source</th>\n",
       "    </tr>\n",
       "  </thead>\n",
       "  <tbody>\n",
       "    <tr>\n",
       "      <th>0</th>\n",
       "      <td>1976</td>\n",
       "      <td>I</td>\n",
       "      <td>Elephas maximus</td>\n",
       "      <td>Mammalia</td>\n",
       "      <td>Proboscidea</td>\n",
       "      <td>Elephantidae</td>\n",
       "      <td>Elephas</td>\n",
       "      <td>DE</td>\n",
       "      <td>IN</td>\n",
       "      <td>NaN</td>\n",
       "      <td>142.0</td>\n",
       "      <td>NaN</td>\n",
       "      <td>ivory carvings</td>\n",
       "      <td>NaN</td>\n",
       "      <td>T</td>\n",
       "      <td>NaN</td>\n",
       "    </tr>\n",
       "    <tr>\n",
       "      <th>1</th>\n",
       "      <td>1977</td>\n",
       "      <td>I</td>\n",
       "      <td>Elephas maximus</td>\n",
       "      <td>Mammalia</td>\n",
       "      <td>Proboscidea</td>\n",
       "      <td>Elephantidae</td>\n",
       "      <td>Elephas</td>\n",
       "      <td>CA</td>\n",
       "      <td>US</td>\n",
       "      <td>NaN</td>\n",
       "      <td>1.0</td>\n",
       "      <td>NaN</td>\n",
       "      <td>ivory carvings</td>\n",
       "      <td>NaN</td>\n",
       "      <td>P</td>\n",
       "      <td>NaN</td>\n",
       "    </tr>\n",
       "    <tr>\n",
       "      <th>2</th>\n",
       "      <td>1977</td>\n",
       "      <td>II</td>\n",
       "      <td>Elephantidae spp.</td>\n",
       "      <td>Mammalia</td>\n",
       "      <td>Proboscidea</td>\n",
       "      <td>Elephantidae</td>\n",
       "      <td>NaN</td>\n",
       "      <td>DK</td>\n",
       "      <td>GB</td>\n",
       "      <td>XX</td>\n",
       "      <td>60.0</td>\n",
       "      <td>NaN</td>\n",
       "      <td>ivory carvings</td>\n",
       "      <td>sets</td>\n",
       "      <td>NaN</td>\n",
       "      <td>NaN</td>\n",
       "    </tr>\n",
       "    <tr>\n",
       "      <th>3</th>\n",
       "      <td>1977</td>\n",
       "      <td>II</td>\n",
       "      <td>Elephantidae spp.</td>\n",
       "      <td>Mammalia</td>\n",
       "      <td>Proboscidea</td>\n",
       "      <td>Elephantidae</td>\n",
       "      <td>NaN</td>\n",
       "      <td>DK</td>\n",
       "      <td>HK</td>\n",
       "      <td>XX</td>\n",
       "      <td>22.0</td>\n",
       "      <td>NaN</td>\n",
       "      <td>ivory carvings</td>\n",
       "      <td>kg</td>\n",
       "      <td>NaN</td>\n",
       "      <td>NaN</td>\n",
       "    </tr>\n",
       "    <tr>\n",
       "      <th>4</th>\n",
       "      <td>1977</td>\n",
       "      <td>II</td>\n",
       "      <td>Elephantidae spp.</td>\n",
       "      <td>Mammalia</td>\n",
       "      <td>Proboscidea</td>\n",
       "      <td>Elephantidae</td>\n",
       "      <td>NaN</td>\n",
       "      <td>DK</td>\n",
       "      <td>IN</td>\n",
       "      <td>XX</td>\n",
       "      <td>144.0</td>\n",
       "      <td>NaN</td>\n",
       "      <td>ivory carvings</td>\n",
       "      <td>kg</td>\n",
       "      <td>NaN</td>\n",
       "      <td>NaN</td>\n",
       "    </tr>\n",
       "  </tbody>\n",
       "</table>\n",
       "</div>"
      ],
      "text/plain": [
       "   Year App.              Taxon     Class        Order        Family    Genus  \\\n",
       "0  1976    I    Elephas maximus  Mammalia  Proboscidea  Elephantidae  Elephas   \n",
       "1  1977    I    Elephas maximus  Mammalia  Proboscidea  Elephantidae  Elephas   \n",
       "2  1977   II  Elephantidae spp.  Mammalia  Proboscidea  Elephantidae      NaN   \n",
       "3  1977   II  Elephantidae spp.  Mammalia  Proboscidea  Elephantidae      NaN   \n",
       "4  1977   II  Elephantidae spp.  Mammalia  Proboscidea  Elephantidae      NaN   \n",
       "\n",
       "  Importer Exporter Origin  Importer reported quantity  \\\n",
       "0       DE       IN    NaN                       142.0   \n",
       "1       CA       US    NaN                         1.0   \n",
       "2       DK       GB     XX                        60.0   \n",
       "3       DK       HK     XX                        22.0   \n",
       "4       DK       IN     XX                       144.0   \n",
       "\n",
       "   Exporter reported quantity            Term  Unit Purpose Source  \n",
       "0                         NaN  ivory carvings   NaN       T    NaN  \n",
       "1                         NaN  ivory carvings   NaN       P    NaN  \n",
       "2                         NaN  ivory carvings  sets     NaN    NaN  \n",
       "3                         NaN  ivory carvings    kg     NaN    NaN  \n",
       "4                         NaN  ivory carvings    kg     NaN    NaN  "
      ]
     },
     "execution_count": 4,
     "metadata": {},
     "output_type": "execute_result"
    }
   ],
   "source": [
    "ivory = pd.read_csv('CITES_data_20180717_ivory_carvings.csv')\n",
    "ivory.head()"
   ]
  },
  {
   "cell_type": "code",
   "execution_count": 8,
   "metadata": {},
   "outputs": [
    {
     "data": {
      "text/html": [
       "<div>\n",
       "<style scoped>\n",
       "    .dataframe tbody tr th:only-of-type {\n",
       "        vertical-align: middle;\n",
       "    }\n",
       "\n",
       "    .dataframe tbody tr th {\n",
       "        vertical-align: top;\n",
       "    }\n",
       "\n",
       "    .dataframe thead th {\n",
       "        text-align: right;\n",
       "    }\n",
       "</style>\n",
       "<table border=\"1\" class=\"dataframe\">\n",
       "  <thead>\n",
       "    <tr style=\"text-align: right;\">\n",
       "      <th></th>\n",
       "      <th>Year</th>\n",
       "      <th>App.</th>\n",
       "      <th>Taxon</th>\n",
       "      <th>Class</th>\n",
       "      <th>Order</th>\n",
       "      <th>Family</th>\n",
       "      <th>Genus</th>\n",
       "      <th>Importer</th>\n",
       "      <th>Exporter</th>\n",
       "      <th>Origin</th>\n",
       "      <th>Importer reported quantity</th>\n",
       "      <th>Exporter reported quantity</th>\n",
       "      <th>Term</th>\n",
       "      <th>Unit</th>\n",
       "      <th>Purpose</th>\n",
       "      <th>Source</th>\n",
       "    </tr>\n",
       "  </thead>\n",
       "  <tbody>\n",
       "  </tbody>\n",
       "</table>\n",
       "</div>"
      ],
      "text/plain": [
       "Empty DataFrame\n",
       "Columns: [Year, App., Taxon, Class, Order, Family, Genus, Importer, Exporter, Origin, Importer reported quantity, Exporter reported quantity, Term, Unit, Purpose, Source]\n",
       "Index: []"
      ]
     },
     "execution_count": 8,
     "metadata": {},
     "output_type": "execute_result"
    }
   ],
   "source": [
    "teeth[teeth['Genus']=='Mammuthus']"
   ]
  },
  {
   "cell_type": "code",
   "execution_count": 4,
   "metadata": {
    "scrolled": true
   },
   "outputs": [
    {
     "data": {
      "text/plain": [
       "Loxodonta africana    482\n",
       "Elephas maximus        47\n",
       "Elephantidae spp.      39\n",
       "Elephas spp.            1\n",
       "Name: Taxon, dtype: int64"
      ]
     },
     "execution_count": 4,
     "metadata": {},
     "output_type": "execute_result"
    }
   ],
   "source": [
    "teeth[teeth['Family']=='Elephantidae'].Taxon.value_counts()"
   ]
  },
  {
   "cell_type": "code",
   "execution_count": 14,
   "metadata": {},
   "outputs": [
    {
     "data": {
      "text/plain": [
       "(569, 16)"
      ]
     },
     "execution_count": 14,
     "metadata": {},
     "output_type": "execute_result"
    }
   ],
   "source": [
    "teeth[teeth['Family']=='Elephantidae'].shape"
   ]
  },
  {
   "cell_type": "code",
   "execution_count": 5,
   "metadata": {},
   "outputs": [
    {
     "data": {
      "text/plain": [
       "Mammalia          7822\n",
       "Reptilia           652\n",
       "Elasmobranchii      54\n",
       "Aves                 4\n",
       "Name: Class, dtype: int64"
      ]
     },
     "execution_count": 5,
     "metadata": {},
     "output_type": "execute_result"
    }
   ],
   "source": [
    "teeth.Class.value_counts()"
   ]
  },
  {
   "cell_type": "code",
   "execution_count": 6,
   "metadata": {},
   "outputs": [
    {
     "data": {
      "text/plain": [
       "Artiodactyla         3103\n",
       "Carnivora            2118\n",
       "Cetacea              1758\n",
       "Crocodylia            648\n",
       "Proboscidea           569\n",
       "Primates              184\n",
       "Perissodactyla         47\n",
       "Lamniformes            42\n",
       "Sirenia                19\n",
       "Rodentia               13\n",
       "Pristiformes           10\n",
       "Cingulata               6\n",
       "Coraciiformes           4\n",
       "Chiroptera              4\n",
       "Serpentes               3\n",
       "Carcharhiniformes       1\n",
       "Pilosa                  1\n",
       "Orectolobiformes        1\n",
       "Sauria                  1\n",
       "Name: Order, dtype: int64"
      ]
     },
     "execution_count": 6,
     "metadata": {},
     "output_type": "execute_result"
    }
   ],
   "source": [
    "teeth.Order.value_counts()"
   ]
  },
  {
   "cell_type": "code",
   "execution_count": 16,
   "metadata": {},
   "outputs": [
    {
     "data": {
      "text/plain": [
       "(32516, 16)"
      ]
     },
     "execution_count": 16,
     "metadata": {},
     "output_type": "execute_result"
    }
   ],
   "source": [
    "ivory.shape"
   ]
  },
  {
   "cell_type": "code",
   "execution_count": 17,
   "metadata": {},
   "outputs": [
    {
     "data": {
      "text/html": [
       "<div>\n",
       "<style scoped>\n",
       "    .dataframe tbody tr th:only-of-type {\n",
       "        vertical-align: middle;\n",
       "    }\n",
       "\n",
       "    .dataframe tbody tr th {\n",
       "        vertical-align: top;\n",
       "    }\n",
       "\n",
       "    .dataframe thead th {\n",
       "        text-align: right;\n",
       "    }\n",
       "</style>\n",
       "<table border=\"1\" class=\"dataframe\">\n",
       "  <thead>\n",
       "    <tr style=\"text-align: right;\">\n",
       "      <th></th>\n",
       "      <th>Year</th>\n",
       "      <th>App.</th>\n",
       "      <th>Taxon</th>\n",
       "      <th>Class</th>\n",
       "      <th>Order</th>\n",
       "      <th>Family</th>\n",
       "      <th>Genus</th>\n",
       "      <th>Importer</th>\n",
       "      <th>Exporter</th>\n",
       "      <th>Origin</th>\n",
       "      <th>Importer reported quantity</th>\n",
       "      <th>Exporter reported quantity</th>\n",
       "      <th>Term</th>\n",
       "      <th>Unit</th>\n",
       "      <th>Purpose</th>\n",
       "      <th>Source</th>\n",
       "    </tr>\n",
       "  </thead>\n",
       "  <tbody>\n",
       "  </tbody>\n",
       "</table>\n",
       "</div>"
      ],
      "text/plain": [
       "Empty DataFrame\n",
       "Columns: [Year, App., Taxon, Class, Order, Family, Genus, Importer, Exporter, Origin, Importer reported quantity, Exporter reported quantity, Term, Unit, Purpose, Source]\n",
       "Index: []"
      ]
     },
     "execution_count": 17,
     "metadata": {},
     "output_type": "execute_result"
    }
   ],
   "source": [
    "ivory[ivory['Genus']=='Mammuthus']"
   ]
  },
  {
   "cell_type": "code",
   "execution_count": 18,
   "metadata": {},
   "outputs": [
    {
     "data": {
      "text/plain": [
       "Elephantidae      31763\n",
       "Odobenidae          286\n",
       "Hippopotamidae      247\n",
       "Physeteridae         69\n",
       "Monodontidae         11\n",
       "Cheloniidae           9\n",
       "Crocodylidae          5\n",
       "Eschrichtiidae        5\n",
       "Felidae               4\n",
       "Delphinidae           4\n",
       "Bovidae               3\n",
       "Balaenidae            2\n",
       "Pythonidae            2\n",
       "Loxocemidae           1\n",
       "Colubridae            1\n",
       "Orchidaceae           1\n",
       "Teiidae               1\n",
       "Tapiridae             1\n",
       "Rhinocerotidae        1\n",
       "Name: Family, dtype: int64"
      ]
     },
     "execution_count": 18,
     "metadata": {},
     "output_type": "execute_result"
    }
   ],
   "source": [
    "ivory.Family.value_counts()"
   ]
  },
  {
   "cell_type": "code",
   "execution_count": 19,
   "metadata": {},
   "outputs": [
    {
     "data": {
      "text/plain": [
       "Hippopotamidae     3030\n",
       "Ursidae             858\n",
       "Physeteridae        811\n",
       "Felidae             643\n",
       "Elephantidae        569\n",
       "Crocodylidae        544\n",
       "Monodontidae        297\n",
       "Odobenidae          261\n",
       "Delphinidae         248\n",
       "Canidae             223\n",
       "Cercopithecidae     132\n",
       "Phocoenidae          66\n",
       "Mustelidae           62\n",
       "Alligatoridae        48\n",
       "Otariidae            43\n",
       "Balaenidae           41\n",
       "Lamnidae             41\n",
       "Bovidae              35\n",
       "Tayassuidae          28\n",
       "Phocidae             26\n",
       "Rhinocerotidae       22\n",
       "Cebidae              20\n",
       "Equidae              19\n",
       "Balaenopteridae      16\n",
       "Ziphiidae            16\n",
       "Iniidae              14\n",
       "Dugongidae           14\n",
       "Dasyproctidae        13\n",
       "Pristidae            10\n",
       "Hominidae             9\n",
       "Tapiridae             6\n",
       "Pitheciidae           6\n",
       "Dasypodidae           6\n",
       "Trichechidae          5\n",
       "Moschidae             4\n",
       "Bucerotidae           4\n",
       "Pteropodidae          4\n",
       "Atelidae              4\n",
       "Boidae                3\n",
       "Cervidae              2\n",
       "Hylobatidae           2\n",
       "Suidae                2\n",
       "Platanistidae         2\n",
       "Eschrichtiidae        2\n",
       "Carcharhinidae        1\n",
       "Viverridae            1\n",
       "Camelidae             1\n",
       "Antilocapridae        1\n",
       "Hyaenidae             1\n",
       "Cetorhinidae          1\n",
       "Bradypodidae          1\n",
       "Iguanidae             1\n",
       "Rhincodontidae        1\n",
       "Name: Family, dtype: int64"
      ]
     },
     "execution_count": 19,
     "metadata": {},
     "output_type": "execute_result"
    }
   ],
   "source": [
    "teeth.Family.value_counts()"
   ]
  },
  {
   "cell_type": "code",
   "execution_count": 21,
   "metadata": {},
   "outputs": [
    {
     "name": "stdout",
     "output_type": "stream",
     "text": [
      "(32516, 16) (8532, 16)\n"
     ]
    }
   ],
   "source": [
    "print(ivory.shape, teeth.shape)"
   ]
  },
  {
   "cell_type": "code",
   "execution_count": null,
   "metadata": {},
   "outputs": [],
   "source": []
  }
 ],
 "metadata": {
  "kernelspec": {
   "display_name": "Python 3",
   "language": "python",
   "name": "python3"
  },
  "language_info": {
   "codemirror_mode": {
    "name": "ipython",
    "version": 3
   },
   "file_extension": ".py",
   "mimetype": "text/x-python",
   "name": "python",
   "nbconvert_exporter": "python",
   "pygments_lexer": "ipython3",
   "version": "3.6.5"
  }
 },
 "nbformat": 4,
 "nbformat_minor": 2
}
