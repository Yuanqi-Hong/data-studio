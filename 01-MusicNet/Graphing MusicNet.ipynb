{
 "cells": [
  {
   "cell_type": "markdown",
   "metadata": {},
   "source": [
    "# Graphing MusicNet Data"
   ]
  },
  {
   "cell_type": "markdown",
   "metadata": {},
   "source": [
    "> [MusicNet](https://homes.cs.washington.edu/~thickstn/musicnet.html) is a collection of 330 freely-licensed classical music recordings, together with over 1 million annotated labels indicating the precise time of each note in every recording, the instrument that plays each note, and the note's position in the metrical structure of the composition.\n",
    "\n",
    "MusicNet provides two datasets: the first is its metadata, which contains summary info of the tracks, and the second is the raw data (provided in different formats), which contains everything including the labels, and which takes much longer to download. I start by plotting MusicNet's metadata."
   ]
  },
  {
   "cell_type": "code",
   "execution_count": 1,
   "metadata": {},
   "outputs": [],
   "source": [
    "import pandas as pd\n",
    "import matplotlib.pyplot as plt\n",
    "from cycler import cycler\n",
    "\n",
    "%matplotlib inline"
   ]
  },
  {
   "cell_type": "code",
   "execution_count": 5,
   "metadata": {},
   "outputs": [],
   "source": [
    "plt.rcdefaults()\n",
    "plt.rcParams.update({\n",
    "    'text.color': '#ffffff',\n",
    "    'lines.linewidth': 1,\n",
    "    'lines.solid_capstyle': 'butt',\n",
    "    'legend.fancybox': True,\n",
    "#     'axes.prop_cycle': cycler('color', ['#EC407A','#BBDEFB','#00E676','#90CAF9','#64B5F6','#42A5F5','#2196F3','#1DE9B6']),\n",
    "    'axes.facecolor': '#222222',\n",
    "    'axes.labelsize': 'large',\n",
    "    'axes.labelcolor': 'white',\n",
    "    'axes.axisbelow': True,\n",
    "    'axes.grid': False,\n",
    "    'axes.edgecolor': '222222',\n",
    "    'axes.linewidth': 3.0,\n",
    "    'axes.titlesize': 'x-large',\n",
    "    'patch.edgecolor': '#222222',\n",
    "    'patch.linewidth': 0.5,\n",
    "#     'svg.fonttype': 'path',\n",
    "    'grid.linestyle': '-',\n",
    "    'grid.linewidth': 1.0,\n",
    "    'grid.color': '#cbcbcb',\n",
    "    'xtick.major.size': 0,\n",
    "    'xtick.minor.size': 0,\n",
    "    'xtick.color': '#ffffff',\n",
    "    'ytick.major.size': 0,\n",
    "    'ytick.minor.size': 0,\n",
    "    'ytick.color': '#ffffff',\n",
    "    'font.size': 10.0,\n",
    "    'savefig.edgecolor': '#222222',\n",
    "    'savefig.facecolor': '#222222',\n",
    "    'figure.subplot.left': 0.08,\n",
    "    'figure.subplot.right': 0.95,\n",
    "    'figure.subplot.bottom': 0.07,\n",
    "    'figure.facecolor': '#222222',\n",
    "    'ps.fonttype' : 42,\n",
    "    'pdf.fonttype' : 42\n",
    "})"
   ]
  },
  {
   "cell_type": "code",
   "execution_count": 3,
   "metadata": {
    "scrolled": true
   },
   "outputs": [
    {
     "data": {
      "text/html": [
       "<div>\n",
       "<style scoped>\n",
       "    .dataframe tbody tr th:only-of-type {\n",
       "        vertical-align: middle;\n",
       "    }\n",
       "\n",
       "    .dataframe tbody tr th {\n",
       "        vertical-align: top;\n",
       "    }\n",
       "\n",
       "    .dataframe thead th {\n",
       "        text-align: right;\n",
       "    }\n",
       "</style>\n",
       "<table border=\"1\" class=\"dataframe\">\n",
       "  <thead>\n",
       "    <tr style=\"text-align: right;\">\n",
       "      <th></th>\n",
       "      <th>id</th>\n",
       "      <th>composer</th>\n",
       "      <th>composition</th>\n",
       "      <th>movement</th>\n",
       "      <th>ensemble</th>\n",
       "      <th>source</th>\n",
       "      <th>transcriber</th>\n",
       "      <th>catalog_name</th>\n",
       "      <th>seconds</th>\n",
       "    </tr>\n",
       "  </thead>\n",
       "  <tbody>\n",
       "    <tr>\n",
       "      <th>0</th>\n",
       "      <td>1727</td>\n",
       "      <td>Schubert</td>\n",
       "      <td>Piano Quintet in A major</td>\n",
       "      <td>2. Andante</td>\n",
       "      <td>Piano Quintet</td>\n",
       "      <td>European Archive</td>\n",
       "      <td>http://tirolmusic.blogspot.com/</td>\n",
       "      <td>OP114</td>\n",
       "      <td>447</td>\n",
       "    </tr>\n",
       "    <tr>\n",
       "      <th>1</th>\n",
       "      <td>1728</td>\n",
       "      <td>Schubert</td>\n",
       "      <td>Piano Quintet in A major</td>\n",
       "      <td>3. Scherzo: Presto</td>\n",
       "      <td>Piano Quintet</td>\n",
       "      <td>European Archive</td>\n",
       "      <td>http://tirolmusic.blogspot.com/</td>\n",
       "      <td>OP114</td>\n",
       "      <td>251</td>\n",
       "    </tr>\n",
       "    <tr>\n",
       "      <th>2</th>\n",
       "      <td>1729</td>\n",
       "      <td>Schubert</td>\n",
       "      <td>Piano Quintet in A major</td>\n",
       "      <td>4. Andantino - Allegretto</td>\n",
       "      <td>Piano Quintet</td>\n",
       "      <td>European Archive</td>\n",
       "      <td>http://tirolmusic.blogspot.com/</td>\n",
       "      <td>OP114</td>\n",
       "      <td>444</td>\n",
       "    </tr>\n",
       "    <tr>\n",
       "      <th>3</th>\n",
       "      <td>1730</td>\n",
       "      <td>Schubert</td>\n",
       "      <td>Piano Quintet in A major</td>\n",
       "      <td>5. Allegro giusto</td>\n",
       "      <td>Piano Quintet</td>\n",
       "      <td>European Archive</td>\n",
       "      <td>http://tirolmusic.blogspot.com/</td>\n",
       "      <td>OP114</td>\n",
       "      <td>368</td>\n",
       "    </tr>\n",
       "    <tr>\n",
       "      <th>4</th>\n",
       "      <td>1733</td>\n",
       "      <td>Schubert</td>\n",
       "      <td>Piano Sonata in A major</td>\n",
       "      <td>2. Andantino</td>\n",
       "      <td>Solo Piano</td>\n",
       "      <td>Museopen</td>\n",
       "      <td>Segundo G. Yogore</td>\n",
       "      <td>D959</td>\n",
       "      <td>546</td>\n",
       "    </tr>\n",
       "  </tbody>\n",
       "</table>\n",
       "</div>"
      ],
      "text/plain": [
       "     id  composer               composition                   movement  \\\n",
       "0  1727  Schubert  Piano Quintet in A major                 2. Andante   \n",
       "1  1728  Schubert  Piano Quintet in A major         3. Scherzo: Presto   \n",
       "2  1729  Schubert  Piano Quintet in A major  4. Andantino - Allegretto   \n",
       "3  1730  Schubert  Piano Quintet in A major          5. Allegro giusto   \n",
       "4  1733  Schubert   Piano Sonata in A major               2. Andantino   \n",
       "\n",
       "        ensemble            source                      transcriber  \\\n",
       "0  Piano Quintet  European Archive  http://tirolmusic.blogspot.com/   \n",
       "1  Piano Quintet  European Archive  http://tirolmusic.blogspot.com/   \n",
       "2  Piano Quintet  European Archive  http://tirolmusic.blogspot.com/   \n",
       "3  Piano Quintet  European Archive  http://tirolmusic.blogspot.com/   \n",
       "4     Solo Piano          Museopen                Segundo G. Yogore   \n",
       "\n",
       "  catalog_name  seconds  \n",
       "0        OP114      447  \n",
       "1        OP114      251  \n",
       "2        OP114      444  \n",
       "3        OP114      368  \n",
       "4         D959      546  "
      ]
     },
     "execution_count": 3,
     "metadata": {},
     "output_type": "execute_result"
    }
   ],
   "source": [
    "# Open up the metadata\n",
    "df = pd.read_csv('musicnet_metadata.csv')\n",
    "df.head()"
   ]
  },
  {
   "cell_type": "code",
   "execution_count": null,
   "metadata": {},
   "outputs": [],
   "source": [
    "# Take a look at the composers (how many movements each composer holds in this database)\n",
    "def get_color(name):\n",
    "    if name == 'Beethoven':\n",
    "        return '#EC407A'\n",
    "    else:\n",
    "        return '#00E676'\n",
    "\n",
    "bar_colors = [get_color(name) for name in df.composer]\n",
    "\n",
    "ax = df.composer.value_counts().sort_values().plot(kind='barh', color=bar_colors, legend=False, figsize=(20,6))\n",
    "ax.set_title('Beethoven Absolutely RULED MusicNet’s Database',pad=17)\n",
    "ax.title.set_fontsize(20)\n",
    "ax.spines['top'].set_visible(False)\n",
    "ax.spines['left'].set_visible(False)\n",
    "ax.spines['bottom'].set_visible(False)\n",
    "ax.spines['right'].set_visible(False)\n",
    "ax.set_xticks([0,20,40,60,80,100,120,140,160])\n",
    "ax.set_xticklabels([0,20,40,60,80,100,120,140,'160 movements'])\n",
    "ax.tick_params(which='major',left=False, bottom=False, grid_alpha=0.3)\n",
    "ax.grid(True, axis='x')\n",
    "ax.set_axisbelow(True)\n",
    "\n",
    "plt.show()"
   ]
  },
  {
   "cell_type": "markdown",
   "metadata": {},
   "source": [
    "Seems like this dataset is pretty biased toward Beethoven.\n",
    "\n",
    "But wait, that could be because we counted the movements rather than compositions per composer. Maybe things will look less crazy if we counted compositions instead?"
   ]
  },
  {
   "cell_type": "code",
   "execution_count": 19,
   "metadata": {},
   "outputs": [
    {
     "data": {
      "image/png": "[encoded data removed]",
      "text/plain": [
       "<Figure size 2000x600 with 1 Axes>"
      ]
     },
     "metadata": {},
     "output_type": "display_data"
    }
   ],
   "source": [
    "# Look at how many compositions each composer has\n",
    "df1 = df.groupby('composition').composer.value_counts()\n",
    "from collections import Counter\n",
    "counter = Counter([composer[1] for composer in df1.keys()])\n",
    "df1 = pd.DataFrame(counter, index=counter.keys()).transpose()['Beethoven']\n",
    "\n",
    "ax = df1.sort_values().plot(kind='barh', color='#EC407A', legend=False, figsize=(20,6))\n",
    "ax.set_title('The Man that Rules MusicNet’s Database',pad=40)\n",
    "plt.gcf().text(0.5, 0.91, 'In MusicNet\\'s database, this composer has 55 compositions, steamrolling Bach and Mozart.' , ha='center', fontsize=14)\n",
    "ax.title.set_fontsize(20)\n",
    "ax.spines['top'].set_visible(False)\n",
    "ax.spines['left'].set_visible(False)\n",
    "ax.spines['bottom'].set_visible(False)\n",
    "ax.spines['right'].set_visible(False)\n",
    "ax.set_xticks([0,10,20,30,40,50])\n",
    "ax.set_xticklabels([0,10,20,30,40,'50 compositions'])\n",
    "ax.set_xlim(0,56)\n",
    "ax.tick_params(which='major',left=False, bottom=False, grid_alpha=0.3)\n",
    "ax.grid(True, axis='x')\n",
    "ax.set_axisbelow(True)\n",
    "\n",
    "plt.savefig('output.pdf')\n",
    "\n",
    "plt.show()"
   ]
  },
  {
   "cell_type": "markdown",
   "metadata": {},
   "source": [
    "Apparently not."
   ]
  },
  {
   "cell_type": "markdown",
   "metadata": {},
   "source": [
    "What is the most popular tonality according to MusicNet? What does the breakdown look like for each composer?"
   ]
  },
  {
   "cell_type": "code",
   "execution_count": null,
   "metadata": {
    "scrolled": false
   },
   "outputs": [],
   "source": [
    "# Use regex to extract all tonalities\n",
    "df['tonality'] = df.composition.str.extract('in ([A-Z][^\\w].*)$', expand=True)\n",
    "\n",
    "ax = df['tonality'].value_counts().sort_values().plot(kind='barh', color='#EC407A', legend=False, figsize=(20,11))\n",
    "ax.set_title('E-flat Major Is the People\\'s Choice', pad=17)\n",
    "ax.title.set_fontsize(20)\n",
    "ax.spines['top'].set_visible(False)\n",
    "ax.spines['left'].set_visible(False)\n",
    "ax.spines['bottom'].set_visible(False)\n",
    "ax.spines['right'].set_visible(False)\n",
    "ax.set_xticks([0,5,10,15,20,25,30,35])\n",
    "ax.set_xticklabels([0,5,10,15,20,25,30,'35 movements'])\n",
    "ax.set_xlim(0,36)\n",
    "ax.tick_params(which='major',left=False, bottom=False, grid_alpha=0.3)\n",
    "ax.grid(True, axis='x')\n",
    "ax.set_axisbelow(True)\n",
    "\n",
    "plt.show()"
   ]
  },
  {
   "cell_type": "code",
   "execution_count": null,
   "metadata": {},
   "outputs": [],
   "source": [
    "# df['tonality'] = df.tonality.replace('.*Major','major')\n",
    "# df['tonality'] = df.tonality.replace('.*Minor','minor')\n",
    "# df['tonality'] = df.composition.str.extract('in [A-Z][^\\w]*(.{5})$', expand=True)\n",
    "# df['tonality'].value_counts()"
   ]
  },
  {
   "cell_type": "code",
   "execution_count": null,
   "metadata": {
    "scrolled": true
   },
   "outputs": [],
   "source": [
    "[(row[1].str.extract('in ([A-Z][^\\w].*)$', expand=True)) for row in df.groupby('composer').composition]"
   ]
  },
  {
   "cell_type": "code",
   "execution_count": null,
   "metadata": {
    "scrolled": true
   },
   "outputs": [],
   "source": [
    "df.seconds.hist()"
   ]
  },
  {
   "cell_type": "code",
   "execution_count": null,
   "metadata": {
    "scrolled": false
   },
   "outputs": [],
   "source": [
    "df.ensemble.value_counts()"
   ]
  },
  {
   "cell_type": "code",
   "execution_count": null,
   "metadata": {},
   "outputs": [],
   "source": [
    "df.groupby('composer')[]"
   ]
  },
  {
   "cell_type": "markdown",
   "metadata": {},
   "source": [
    "Nice-to-have:\n",
    "- A graph showing composers' favorite tonalities?\n",
    "- An interactive line graph of compositions' melody trends (can be filtered by composer)"
   ]
  },
  {
   "cell_type": "code",
   "execution_count": null,
   "metadata": {},
   "outputs": [],
   "source": []
  }
 ],
 "metadata": {
  "kernelspec": {
   "display_name": "Python 3",
   "language": "python",
   "name": "python3"
  },
  "language_info": {
   "codemirror_mode": {
    "name": "ipython",
    "version": 3
   },
   "file_extension": ".py",
   "mimetype": "text/x-python",
   "name": "python",
   "nbconvert_exporter": "python",
   "pygments_lexer": "ipython3",
   "version": "3.6.5"
  }
 },
 "nbformat": 4,
 "nbformat_minor": 2
}
